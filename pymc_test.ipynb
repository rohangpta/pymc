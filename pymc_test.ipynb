{
 "cells": [
  {
   "cell_type": "code",
   "execution_count": 232,
   "id": "d4f5ee88-e449-4091-8edb-d399001daa54",
   "metadata": {},
   "outputs": [],
   "source": [
    "from math import log\n",
    "from random import choices\n",
    "import numpy as np\n",
    "from functools import reduce\n",
    "from sklearn.linear_model import LinearRegression, LogisticRegression\n",
    "from sklearn.ensemble import GradientBoostingClassifier, GradientBoostingRegressor\n",
    "from random import choice\n",
    "import pandas as pd\n",
    "import warnings\n",
    "from matplotlib import pyplot as plt\n",
    "warnings.filterwarnings(\"ignore\")"
   ]
  },
  {
   "cell_type": "code",
   "execution_count": 103,
   "id": "1526e7a6-fb02-4e17-87fd-30ab36f3ad3d",
   "metadata": {},
   "outputs": [],
   "source": [
    "from folktables import ACSDataSource, ACSEmployment, ACSPublicCoverage\n",
    "data_source = ACSDataSource(survey_year=2018, horizon='1-Year', survey='person')\n",
    "acs_data = data_source.get_data(states=['NY'], download=True)\n",
    "X, y, group = ACSPublicCoverage.df_to_numpy(acs_data)\n",
    "\n",
    "columns = [\n",
    "            'AGEP',\n",
    "            'SCHL',\n",
    "            'MAR',\n",
    "            'SEX',\n",
    "            'DIS',\n",
    "            'ESP',\n",
    "            'CIT',\n",
    "            'MIG',\n",
    "            'MIL',\n",
    "            'ANC',\n",
    "            'NATIVITY',\n",
    "            'DEAR',\n",
    "            'DEYE',\n",
    "            'DREM',\n",
    "            'PINCP',\n",
    "            'ESR',\n",
    "            'ST',\n",
    "            'FER',\n",
    "            'RAC1P',\n",
    "        ]\n",
    "X = pd.DataFrame(X, columns=columns)\n",
    "X_ = X.to_numpy()"
   ]
  },
  {
   "cell_type": "code",
   "execution_count": 168,
   "id": "66a5313d-d7ba-4ae4-97a3-3b3818498a93",
   "metadata": {},
   "outputs": [
    {
     "data": {
      "text/html": [
       "<div>\n",
       "<style scoped>\n",
       "    .dataframe tbody tr th:only-of-type {\n",
       "        vertical-align: middle;\n",
       "    }\n",
       "\n",
       "    .dataframe tbody tr th {\n",
       "        vertical-align: top;\n",
       "    }\n",
       "\n",
       "    .dataframe thead th {\n",
       "        text-align: right;\n",
       "    }\n",
       "</style>\n",
       "<table border=\"1\" class=\"dataframe\">\n",
       "  <thead>\n",
       "    <tr style=\"text-align: right;\">\n",
       "      <th></th>\n",
       "      <th>season</th>\n",
       "      <th>yr</th>\n",
       "      <th>mnth</th>\n",
       "      <th>hr</th>\n",
       "      <th>holiday</th>\n",
       "      <th>weekday</th>\n",
       "      <th>workingday</th>\n",
       "      <th>weathersit</th>\n",
       "      <th>temp</th>\n",
       "      <th>atemp</th>\n",
       "      <th>hum</th>\n",
       "      <th>windspeed</th>\n",
       "      <th>casual</th>\n",
       "    </tr>\n",
       "  </thead>\n",
       "  <tbody>\n",
       "    <tr>\n",
       "      <th>0</th>\n",
       "      <td>1</td>\n",
       "      <td>0</td>\n",
       "      <td>1</td>\n",
       "      <td>0</td>\n",
       "      <td>0</td>\n",
       "      <td>6</td>\n",
       "      <td>0</td>\n",
       "      <td>1</td>\n",
       "      <td>0.24</td>\n",
       "      <td>0.2879</td>\n",
       "      <td>0.81</td>\n",
       "      <td>0.0</td>\n",
       "      <td>3</td>\n",
       "    </tr>\n",
       "    <tr>\n",
       "      <th>1</th>\n",
       "      <td>1</td>\n",
       "      <td>0</td>\n",
       "      <td>1</td>\n",
       "      <td>1</td>\n",
       "      <td>0</td>\n",
       "      <td>6</td>\n",
       "      <td>0</td>\n",
       "      <td>1</td>\n",
       "      <td>0.22</td>\n",
       "      <td>0.2727</td>\n",
       "      <td>0.80</td>\n",
       "      <td>0.0</td>\n",
       "      <td>8</td>\n",
       "    </tr>\n",
       "    <tr>\n",
       "      <th>2</th>\n",
       "      <td>1</td>\n",
       "      <td>0</td>\n",
       "      <td>1</td>\n",
       "      <td>2</td>\n",
       "      <td>0</td>\n",
       "      <td>6</td>\n",
       "      <td>0</td>\n",
       "      <td>1</td>\n",
       "      <td>0.22</td>\n",
       "      <td>0.2727</td>\n",
       "      <td>0.80</td>\n",
       "      <td>0.0</td>\n",
       "      <td>5</td>\n",
       "    </tr>\n",
       "    <tr>\n",
       "      <th>3</th>\n",
       "      <td>1</td>\n",
       "      <td>0</td>\n",
       "      <td>1</td>\n",
       "      <td>3</td>\n",
       "      <td>0</td>\n",
       "      <td>6</td>\n",
       "      <td>0</td>\n",
       "      <td>1</td>\n",
       "      <td>0.24</td>\n",
       "      <td>0.2879</td>\n",
       "      <td>0.75</td>\n",
       "      <td>0.0</td>\n",
       "      <td>3</td>\n",
       "    </tr>\n",
       "    <tr>\n",
       "      <th>4</th>\n",
       "      <td>1</td>\n",
       "      <td>0</td>\n",
       "      <td>1</td>\n",
       "      <td>4</td>\n",
       "      <td>0</td>\n",
       "      <td>6</td>\n",
       "      <td>0</td>\n",
       "      <td>1</td>\n",
       "      <td>0.24</td>\n",
       "      <td>0.2879</td>\n",
       "      <td>0.75</td>\n",
       "      <td>0.0</td>\n",
       "      <td>0</td>\n",
       "    </tr>\n",
       "  </tbody>\n",
       "</table>\n",
       "</div>"
      ],
      "text/plain": [
       "   season  yr  mnth  hr  holiday  weekday  workingday  weathersit  temp  \\\n",
       "0       1   0     1   0        0        6           0           1  0.24   \n",
       "1       1   0     1   1        0        6           0           1  0.22   \n",
       "2       1   0     1   2        0        6           0           1  0.22   \n",
       "3       1   0     1   3        0        6           0           1  0.24   \n",
       "4       1   0     1   4        0        6           0           1  0.24   \n",
       "\n",
       "    atemp   hum  windspeed  casual  \n",
       "0  0.2879  0.81        0.0       3  \n",
       "1  0.2727  0.80        0.0       8  \n",
       "2  0.2727  0.80        0.0       5  \n",
       "3  0.2879  0.75        0.0       3  \n",
       "4  0.2879  0.75        0.0       0  "
      ]
     },
     "execution_count": 168,
     "metadata": {},
     "output_type": "execute_result"
    }
   ],
   "source": [
    "from sklearn import preprocessing\n",
    "\n",
    "bike = pd.read_csv(\"hour.csv\")\n",
    "X_2 = bike.drop([\"cnt\", \"dteday\", \"instant\", \"registered\"], axis=1)\n",
    "y_2 = bike[\"cnt\"]\n",
    "y_2 = (y_2-y_2.min())/(y_2.max() - y_2.min())\n",
    "X_2.head()"
   ]
  },
  {
   "cell_type": "code",
   "execution_count": 478,
   "id": "945a8b85-7846-4600-bc61-92836ac2fd1e",
   "metadata": {},
   "outputs": [],
   "source": [
    "from sklearn.metrics import accuracy_score, mean_squared_error\n",
    "\n",
    "\n",
    "def partition_base(model, data, num_buckets):\n",
    "    preds = model.predict(data)\n",
    "    output = []\n",
    "    for i in range(num_buckets):\n",
    "        cond = (preds > (i / num_buckets)) & (preds < ((i + 1) / num_buckets))\n",
    "        output.append(cond)\n",
    "    return output\n",
    "\n",
    "class MC:\n",
    "    def __init__(self, init_model, num_buckets=2, max_iter=10, partition=partition_base):\n",
    "        self.alpha = 1e-4\n",
    "        self.eta = 1\n",
    "        self.buckets = num_buckets\n",
    "        self.max_iter = max_iter\n",
    "        self.models = [init_model]\n",
    "        self.partition = partition\n",
    "        \n",
    "\n",
    "    def update_probs(self, orig_probs, model, mask, data):\n",
    "        diffs = np.zeros(len(orig_probs))\n",
    "        diffs[mask] = model.predict(data)[mask]\n",
    "        new_probs = np.exp(-self.eta * diffs)\n",
    "        return new_probs * orig_probs\n",
    "\n",
    "    def multicalibrate(self, oracle, data, labels):\n",
    "        \n",
    "        init_model = self.models[0]\n",
    "        initial_preds = init_model.predict(data)\n",
    "        resids = initial_preds - labels\n",
    "        new_probs = initial_preds\n",
    "\n",
    "        partitions = self.partition(model, data, self.buckets) #+ [np.full(len(initial_preds), True)]\n",
    "        self.parts = []\n",
    "\n",
    "        for _ in range(self.max_iter):\n",
    "            errs = []\n",
    "            grp_models = []\n",
    "            for b in range(self.buckets):\n",
    "                d_t = data.loc[partitions[b]]\n",
    "                residuals = resids[partitions[b]]\n",
    "                if len(d_t):\n",
    "                    h_ = oracle(d_t, residuals)\n",
    "                    yhat = h_.predict(d_t)\n",
    "                    errs.append(mean_squared_error(residuals, yhat))\n",
    "                    grp_models.append(h_)    \n",
    "\n",
    "                \n",
    "            if np.max(errs) < self.alpha:\n",
    "                break\n",
    "                \n",
    "            idx = np.argmax(errs)\n",
    "            worst_model = grp_models[idx]\n",
    "            self.parts.append(partitions[idx])\n",
    "            new_probs = self.update_probs(\n",
    "                new_probs,\n",
    "                worst_model,\n",
    "                partitions[idx],\n",
    "                data,\n",
    "            )\n",
    "            resids = new_probs - labels\n",
    "            self.models.append(worst_model)\n",
    "    \n",
    "    def predict_probs(self, X):\n",
    "        n = len(self.models)\n",
    "        new_preds = self.models[0].predict(X)\n",
    "        for i in range(1, n):\n",
    "            mask = self.parts[i-1]\n",
    "            new_preds = self.update_probs(new_preds, self.models[i], mask, X)\n",
    "        return new_preds"
   ]
  },
  {
   "cell_type": "code",
   "execution_count": 213,
   "id": "63be1f82-675a-47ec-bbc4-3999c315745a",
   "metadata": {},
   "outputs": [],
   "source": [
    "def LinReg(X, y):\n",
    "    reg = LinearRegression()\n",
    "    reg.fit(X, y)\n",
    "    return reg\n",
    "\n",
    "def GBT_C(X, y):\n",
    "    reg = GradientBoostingClassifier(max_depth=3)\n",
    "    reg.fit(X, y)\n",
    "    return reg\n",
    "\n",
    "def GBT_R(X, y):\n",
    "    reg = GradientBoostingRegressor(max_depth=2)\n",
    "    reg.fit(X, y)\n",
    "    return reg\n",
    "\n",
    "def LogReg(X, y):\n",
    "    reg = LogisticRegression()\n",
    "    reg.fit(X, y)\n",
    "    reg.predict = lambda x : reg.predict_proba(x)[..., 0]\n",
    "    return reg"
   ]
  },
  {
   "cell_type": "code",
   "execution_count": 328,
   "id": "5864cbdf-674f-4a29-8531-66075a4b82b8",
   "metadata": {},
   "outputs": [],
   "source": [
    "model = LinReg(X, y)"
   ]
  },
  {
   "cell_type": "code",
   "execution_count": 95,
   "id": "e37b4f76-3649-4dc4-943a-652d8819c918",
   "metadata": {},
   "outputs": [],
   "source": [
    "mc = MC(model, 2, 5)"
   ]
  },
  {
   "cell_type": "code",
   "execution_count": 96,
   "id": "96765960-152f-438c-b454-533935434ae8",
   "metadata": {},
   "outputs": [],
   "source": [
    "mc.multicalibrate(LinReg, X, y)"
   ]
  },
  {
   "cell_type": "code",
   "execution_count": 97,
   "id": "cb613ceb-e0bd-4b76-98ec-ee3049d0a000",
   "metadata": {},
   "outputs": [],
   "source": [
    "yhat = mc.predict_probs(X)"
   ]
  },
  {
   "cell_type": "code",
   "execution_count": 98,
   "id": "0e8ca485-8b62-40a9-8115-c4e93adcc1a7",
   "metadata": {},
   "outputs": [
    {
     "data": {
      "text/plain": [
       "0.2070284553714592"
      ]
     },
     "execution_count": 98,
     "metadata": {},
     "output_type": "execute_result"
    }
   ],
   "source": [
    "mean_squared_error(y, yhat)"
   ]
  },
  {
   "cell_type": "code",
   "execution_count": 251,
   "id": "442dc47c-3c6d-4048-a836-e904bcfd809e",
   "metadata": {},
   "outputs": [
    {
     "name": "stdout",
     "output_type": "stream",
     "text": [
      "0.36384177779049204\n",
      "0.1848562710117659\n"
     ]
    }
   ],
   "source": [
    "print(mean_squared_error(y, model.predict(X)))\n",
    "\n",
    "print(mean_squared_error(y, GBT_R(X, y).predict(X)))"
   ]
  },
  {
   "cell_type": "code",
   "execution_count": 242,
   "id": "df034c8a-8adc-4198-b0ed-7700cf48a2ea",
   "metadata": {},
   "outputs": [],
   "source": [
    "errs = []\n",
    "for i in range(1, 10+1):\n",
    "    mc = MC(model, 2, i)\n",
    "    mc.multicalibrate(LinReg, X, y)\n",
    "    yhat = mc.predict_probs(X)\n",
    "    errs.append(mean_squared_error(y, yhat))"
   ]
  },
  {
   "cell_type": "code",
   "execution_count": 248,
   "id": "39dfe8a0-cf87-47fb-a81b-81921def3551",
   "metadata": {},
   "outputs": [
    {
     "data": {
      "text/plain": [
       "Text(0.5, 0, 'Number of iterations')"
      ]
     },
     "execution_count": 248,
     "metadata": {},
     "output_type": "execute_result"
    },
    {
     "data": {
      "image/png": "[encoded data removed]",
      "text/plain": [
       "<Figure size 432x288 with 1 Axes>"
      ]
     },
     "metadata": {
      "needs_background": "light"
     },
     "output_type": "display_data"
    }
   ],
   "source": [
    "plt.plot(range(1, 10+1), errs)\n",
    "plt.ylabel(\"Mean Squared Error\")\n",
    "plt.xlabel(\"Number of iterations\")"
   ]
  },
  {
   "cell_type": "code",
   "execution_count": 261,
   "id": "70ac5729-c91d-4110-9d0c-f349d319bab7",
   "metadata": {},
   "outputs": [],
   "source": [
    "errs = []\n",
    "for i in range(1, 5+1):\n",
    "    mc = MC(GBT_R(X_, y), i+1, 5)\n",
    "    mc.multicalibrate(GBT_R, X, y)\n",
    "    yhat = mc.predict_probs(X)\n",
    "    errs.append(mean_squared_error(y, yhat))"
   ]
  },
  {
   "cell_type": "code",
   "execution_count": 262,
   "id": "65103461-998a-4d39-89e0-4afcd988ab32",
   "metadata": {},
   "outputs": [
    {
     "data": {
      "text/plain": [
       "Text(0.5, 0, 'Number of buckets')"
      ]
     },
     "execution_count": 262,
     "metadata": {},
     "output_type": "execute_result"
    },
    {
     "data": {
      "image/png": "[encoded data removed]",
      "text/plain": [
       "<Figure size 432x288 with 1 Axes>"
      ]
     },
     "metadata": {
      "needs_background": "light"
     },
     "output_type": "display_data"
    }
   ],
   "source": [
    "plt.plot(range(2, 6+1), errs)\n",
    "plt.ylabel(\"Mean Squared Error\")\n",
    "plt.xlabel(\"Number of buckets\")"
   ]
  },
  {
   "cell_type": "code",
   "execution_count": 214,
   "id": "a6519ffb-3804-4136-af9a-bd5f6172f79f",
   "metadata": {},
   "outputs": [],
   "source": [
    "m2 = LinReg(X_2, y_2)"
   ]
  },
  {
   "cell_type": "code",
   "execution_count": 217,
   "id": "f85c9170-a7f6-4e35-b459-6b14a9d87bef",
   "metadata": {},
   "outputs": [
    {
     "data": {
      "text/plain": [
       "0.013463629892315913"
      ]
     },
     "execution_count": 217,
     "metadata": {},
     "output_type": "execute_result"
    }
   ],
   "source": [
    "mean_squared_error(y_2, m2.predict(X_2))"
   ]
  },
  {
   "cell_type": "code",
   "execution_count": 218,
   "id": "0841920e-c532-470c-92f6-1a0e07a95cd3",
   "metadata": {},
   "outputs": [],
   "source": []
  },
  {
   "cell_type": "code",
   "execution_count": 240,
   "id": "4c328732-0111-4558-bdcd-0a9d639994b5",
   "metadata": {},
   "outputs": [],
   "source": [
    "errs = []\n",
    "for i in range(1, 5+1):\n",
    "    mc2 = MC(m2, 10, i)\n",
    "    mc2.multicalibrate(GBT_R, X_2, y_2)\n",
    "    yhat2 = mc2.predict_probs(X_2)\n",
    "    errs.append(mean_squared_error(y_2, yhat2))"
   ]
  },
  {
   "cell_type": "code",
   "execution_count": 241,
   "id": "dfde476a-cf3b-488b-be8b-55898dd99726",
   "metadata": {},
   "outputs": [
    {
     "data": {
      "text/plain": [
       "[<matplotlib.lines.Line2D at 0x7fe291559160>]"
      ]
     },
     "execution_count": 241,
     "metadata": {},
     "output_type": "execute_result"
    },
    {
     "data": {
      "image/png": "[encoded data removed]",
      "text/plain": [
       "<Figure size 432x288 with 1 Axes>"
      ]
     },
     "metadata": {
      "needs_background": "light"
     },
     "output_type": "display_data"
    }
   ],
   "source": [
    "plt.plot(range(1, 5+1), errs)"
   ]
  },
  {
   "cell_type": "code",
   "execution_count": 284,
   "id": "b2247f9a-111b-4eaf-8dba-be7cc1a1975e",
   "metadata": {},
   "outputs": [],
   "source": [
    "errs = []\n",
    "for i in range(1, 20+1):\n",
    "    mc2 = MC(m2, i, 10)\n",
    "    mc2.multicalibrate(LinReg, X_2, y_2)\n",
    "    yhat2 = mc2.predict_probs(X_2)\n",
    "    errs.append(mean_squared_error(y_2, yhat2))"
   ]
  },
  {
   "cell_type": "code",
   "execution_count": 300,
   "id": "330cc453-ba18-446c-945e-3f94a9e14c44",
   "metadata": {},
   "outputs": [
    {
     "data": {
      "text/plain": [
       "Text(0, 0.5, 'Mean Squared Error')"
      ]
     },
     "execution_count": 300,
     "metadata": {},
     "output_type": "execute_result"
    },
    {
     "data": {
      "image/png": "[encoded data removed]",
      "text/plain": [
       "<Figure size 432x288 with 1 Axes>"
      ]
     },
     "metadata": {
      "needs_background": "light"
     },
     "output_type": "display_data"
    }
   ],
   "source": [
    "plt.plot(range(1, 20+1), errs)\n",
    "plt.xlabel(\"Number of Buckets\")\n",
    "plt.ylabel(\"Mean Squared Error\")"
   ]
  },
  {
   "cell_type": "code",
   "execution_count": 314,
   "id": "a2dc9057-cc60-49b9-bf95-d01392c1c003",
   "metadata": {},
   "outputs": [
    {
     "data": {
      "image/png": "[encoded data removed]",
      "text/plain": [
       "<Figure size 432x288 with 1 Axes>"
      ]
     },
     "metadata": {
      "needs_background": "light"
     },
     "output_type": "display_data"
    }
   ],
   "source": [
    "from sklearn import cluster\n",
    "from scipy.spatial.distance import cdist\n",
    "\n",
    "distortions = []\n",
    "inertias = []\n",
    "mapping1 = {}\n",
    "mapping2 = {}\n",
    "K = range(1, 10)\n",
    "  \n",
    "for k in K:\n",
    "    kmeans = cluster.KMeans(n_clusters=k).fit(y_2.values.reshape(-1, 1))\n",
    "  \n",
    "    distortions.append(sum(np.min(cdist(y_2.values.reshape(-1, 1), kmeans.cluster_centers_,\n",
    "                                        'euclidean'), axis=1)) / y_2.shape[0])\n",
    "    inertias.append(kmeans.inertia_)\n",
    "  \n",
    "    mapping1[k] = sum(np.min(cdist(y_2.values.reshape(-1, 1), kmeans.cluster_centers_,\n",
    "                                   'euclidean'), axis=1)) / y_2.shape[0]\n",
    "    mapping2[k] = kmeans.inertia_\n",
    "    \n",
    "plt.plot(K, distortions, 'bx-')\n",
    "plt.xlabel('Values of K')\n",
    "plt.ylabel('Distortion')\n",
    "plt.title('The Elbow Method using Distortion')\n",
    "plt.show()"
   ]
  },
  {
   "cell_type": "code",
   "execution_count": 306,
   "id": "8fc88eb7-9c27-4926-b47c-d22512bd8955",
   "metadata": {},
   "outputs": [
    {
     "name": "stdout",
     "output_type": "stream",
     "text": [
      "1\n",
      "2\n",
      "3\n",
      "4\n",
      "5\n",
      "6\n",
      "7\n",
      "8\n",
      "9\n",
      "10\n",
      "11\n",
      "12\n",
      "13\n",
      "14\n",
      "15\n",
      "16\n",
      "17\n",
      "18\n",
      "19\n",
      "20\n"
     ]
    }
   ],
   "source": [
    "errs = []\n",
    "m3 = GBT_R(X_2, y_2)\n",
    "for i in range(1, 20+1):\n",
    "    print(i)\n",
    "    mc3 = MC(m3, 4, i)\n",
    "    mc3.multicalibrate(GBT_R, X_2, y_2)\n",
    "    yhat3 = mc3.predict_probs(X_2)\n",
    "    errs.append(mean_squared_error(y_2, yhat3))"
   ]
  },
  {
   "cell_type": "code",
   "execution_count": 308,
   "id": "0155210f-57b2-4f4a-bbe6-8015ae9e2ea1",
   "metadata": {},
   "outputs": [
    {
     "data": {
      "text/plain": [
       "Text(0, 0.5, 'Mean Squared Error')"
      ]
     },
     "execution_count": 308,
     "metadata": {},
     "output_type": "execute_result"
    },
    {
     "data": {
      "image/png": "[encoded data removed]",
      "text/plain": [
       "<Figure size 432x288 with 1 Axes>"
      ]
     },
     "metadata": {
      "needs_background": "light"
     },
     "output_type": "display_data"
    }
   ],
   "source": [
    "plt.plot(range(1, 20+1), errs)\n",
    "plt.xlabel(\"Number of Iterations\")\n",
    "plt.ylabel(\"Mean Squared Error\")"
   ]
  },
  {
   "cell_type": "code",
   "execution_count": 429,
   "id": "23abb463-dfc2-4bb3-928a-06bf8321ce65",
   "metadata": {},
   "outputs": [],
   "source": [
    "def partition_sex(model, data, num_buckets):\n",
    "    output = []\n",
    "    for i in [1.0, 2.0]:\n",
    "        output.append(data.SEX == i)\n",
    "    return output\n",
    "\n",
    "def partition_race(model, data, num_buckets):\n",
    "    output = []\n",
    "    for i in [1.0, 2.0, 6.0, 8.0]:\n",
    "        output.append(data.RAC1P == i)\n",
    "    return output\n",
    "\n",
    "def partition_base(model, data, num_buckets):\n",
    "    preds = model.predict(data)\n",
    "    output = []\n",
    "    for i in range(num_buckets):\n",
    "        cond = (preds > (i / num_buckets)) & (preds < ((i + 1) / num_buckets))\n",
    "        output.append(cond)\n",
    "    return output\n",
    "\n",
    "def partition_base(model, data, num_buckets):\n",
    "    preds = model.predict(data)\n",
    "    output = []\n",
    "    for i in range(num_buckets):\n",
    "        cond = (preds > (i / num_buckets)) & (preds < ((i + 1) / num_buckets))\n",
    "        output.append(cond)\n",
    "    return output\n",
    "\n",
    "\n",
    "def partition_both(model, data, num_buckets):\n",
    "    preds = model.predict(data)\n",
    "    output = []\n",
    "    for i in range(num_buckets):\n",
    "        for j in [1.0, 2.0, 6.0, 8.0]:\n",
    "            cond = (preds > (i / num_buckets)) & (preds < ((i + 1) / num_buckets))\n",
    "            output.append((cond) & (data.RAC1P == j))\n",
    "    return output"
   ]
  },
  {
   "cell_type": "code",
   "execution_count": 374,
   "id": "229c5978-7a40-4f7e-895d-cc56bfcf63e7",
   "metadata": {},
   "outputs": [],
   "source": [
    "model = GBT_R(X, y)\n",
    "\n",
    "mc = MC(model, num_buckets=2, max_iter=20, partition=partition_sex)\n",
    "mc.multicalibrate(GBT_R, X, y)\n",
    "yhat = mc.predict_probs(X)"
   ]
  },
  {
   "cell_type": "code",
   "execution_count": 417,
   "id": "7b0851e4-c1e4-489f-a715-ec4e306fbaff",
   "metadata": {},
   "outputs": [],
   "source": [
    "model = GBT_R(X, y)\n",
    "\n",
    "mc = MC(model, num_buckets=4, max_iter=20, partition=partition_race)\n",
    "mc.multicalibrate(GBT_R, X, y)\n",
    "yhat = mc.predict_probs(X)"
   ]
  },
  {
   "cell_type": "code",
   "execution_count": 439,
   "id": "04cf9328-446e-4c36-b825-ce731443bcf8",
   "metadata": {},
   "outputs": [],
   "source": [
    "model = GBT_R(X, y)\n",
    "\n",
    "mc = MC(model, num_buckets=40, max_iter=10, partition=partition_both)\n",
    "mc.multicalibrate(GBT_R, X, y)\n",
    "yhat = mc.predict_probs(X)"
   ]
  },
  {
   "cell_type": "code",
   "execution_count": 440,
   "id": "0d9a09ed-4690-4bf3-8b72-80fa16f32a59",
   "metadata": {},
   "outputs": [
    {
     "data": {
      "text/plain": [
       "0.1849395317401357"
      ]
     },
     "execution_count": 440,
     "metadata": {},
     "output_type": "execute_result"
    }
   ],
   "source": [
    "mean_squared_error(y, yhat)"
   ]
  },
  {
   "cell_type": "code",
   "execution_count": 441,
   "id": "704302bf-b273-47ea-b31d-5a35f07bc3b3",
   "metadata": {},
   "outputs": [
    {
     "data": {
      "text/plain": [
       "0.18485627101176588"
      ]
     },
     "execution_count": 441,
     "metadata": {},
     "output_type": "execute_result"
    }
   ],
   "source": [
    "mean_squared_error(y, model.predict(X))"
   ]
  },
  {
   "cell_type": "code",
   "execution_count": 442,
   "id": "3dd32411-d978-4557-9e0b-660d87b37d16",
   "metadata": {},
   "outputs": [],
   "source": [
    "errs = []\n",
    "for r in [1.0, 2.0, 6.0, 8.0]:\n",
    "    X_ = X[X.RAC1P == r]\n",
    "    y_ = y[X.RAC1P == r]\n",
    "    errs.append(mean_squared_error(y_, model.predict(X_)))"
   ]
  },
  {
   "cell_type": "code",
   "execution_count": 443,
   "id": "322b40f1-0d09-46cf-a359-692b4d8c7be7",
   "metadata": {},
   "outputs": [],
   "source": [
    "errs2=[]\n",
    "for r in [1.0, 2.0, 6.0, 8.0]:\n",
    "    X_ = X[X.RAC1P == r]\n",
    "    y_ = y[X.RAC1P == r]\n",
    "    errs2.append(mean_squared_error(y_, mc.predict_probs(X)[X.RAC1P == r]))"
   ]
  },
  {
   "cell_type": "code",
   "execution_count": 444,
   "id": "9ffc5ae0-27a2-4c00-a460-457d335c7856",
   "metadata": {},
   "outputs": [
    {
     "data": {
      "text/plain": [
       "<BarContainer object of 4 artists>"
      ]
     },
     "execution_count": 444,
     "metadata": {},
     "output_type": "execute_result"
    },
    {
     "data": {
      "image/png": "[encoded data removed]",
      "text/plain": [
       "<Figure size 432x288 with 1 Axes>"
      ]
     },
     "metadata": {
      "needs_background": "light"
     },
     "output_type": "display_data"
    }
   ],
   "source": [
    "plt.bar([\"White\", \"African American\", \"Asian\", \"Other\"], errs, width=0.5, color=\"red\")\n",
    "plt.bar([\"White\", \"African American\", \"Asian\", \"Other\"], errs2, width=0.5, color=\"orange\")"
   ]
  },
  {
   "cell_type": "code",
   "execution_count": 464,
   "id": "9b06aa13-c4e3-4e99-952f-e2dd1a355a44",
   "metadata": {},
   "outputs": [],
   "source": [
    "def partition_season(model, data, num_buckets):\n",
    "    output = []\n",
    "    for i in [1.0, 2.0, 3.0, 4.0]:\n",
    "        output.append(data.season == i)\n",
    "    return output\n",
    "\n",
    "\n",
    "model = GBT_R(X_2, y_2)\n",
    "\n",
    "mc = MC(model, num_buckets=4, max_iter=20, partition=partition_season)\n",
    "mc.multicalibrate(GBT_R, X_2, y_2)\n",
    "yhat = mc.predict_probs(X_2)"
   ]
  },
  {
   "cell_type": "code",
   "execution_count": 465,
   "id": "62d41e41-412c-4879-9c90-a09410b3acad",
   "metadata": {},
   "outputs": [
    {
     "data": {
      "text/plain": [
       "0.00577861011386891"
      ]
     },
     "execution_count": 465,
     "metadata": {},
     "output_type": "execute_result"
    }
   ],
   "source": [
    "mean_squared_error(y_2, yhat)\n",
    "mean_squared_error(y_2, model.predict(X_2))"
   ]
  },
  {
   "cell_type": "code",
   "execution_count": 466,
   "id": "21fa88c6-0b12-4b67-a4b5-a5361e728269",
   "metadata": {},
   "outputs": [],
   "source": [
    "errs = []\n",
    "for r in [1.0, 2.0, 3.0, 4.0]:\n",
    "    X_ = X_2[X_2.season == r]\n",
    "    y_ = y_2[X_2.season == r]\n",
    "    errs.append(mean_squared_error(y_, model.predict(X_)))"
   ]
  },
  {
   "cell_type": "code",
   "execution_count": 467,
   "id": "d1a471fa-90fa-49cd-845b-8bfb669bea62",
   "metadata": {},
   "outputs": [],
   "source": [
    "errs2 = []\n",
    "for r in [1.0, 2.0, 3.0, 4.0]:\n",
    "    X_ = X_2[X_2.season == r]\n",
    "    y_ = y_2[X_2.season == r]\n",
    "    errs2.append(mean_squared_error(y_, mc.predict_probs(X_2)[X_2.season == r]))"
   ]
  },
  {
   "cell_type": "code",
   "execution_count": 468,
   "id": "e8017423-bce4-41c7-9645-524be5b647ec",
   "metadata": {},
   "outputs": [
    {
     "data": {
      "text/plain": [
       "<BarContainer object of 4 artists>"
      ]
     },
     "execution_count": 468,
     "metadata": {},
     "output_type": "execute_result"
    },
    {
     "data": {
      "image/png": "[encoded data removed]",
      "text/plain": [
       "<Figure size 432x288 with 1 Axes>"
      ]
     },
     "metadata": {
      "needs_background": "light"
     },
     "output_type": "display_data"
    }
   ],
   "source": [
    "plt.bar([\"Winter\", \"Spring\", \"Summer\", \"Fall\"], errs, width=0.5, color=\"red\")\n",
    "plt.bar([\"Winter\", \"Spring\", \"Summer\", \"Fall\"], errs2, width=0.5, color=\"orange\")"
   ]
  },
  {
   "cell_type": "code",
   "execution_count": 484,
   "id": "9ce96816-31bf-4e67-baf2-7ae2e3815629",
   "metadata": {},
   "outputs": [
    {
     "name": "stdout",
     "output_type": "stream",
     "text": [
      "1\n",
      "2\n",
      "3\n",
      "4\n",
      "5\n",
      "6\n",
      "7\n",
      "8\n",
      "9\n",
      "10\n",
      "11\n",
      "12\n",
      "13\n",
      "14\n",
      "15\n",
      "16\n",
      "17\n",
      "18\n",
      "19\n",
      "20\n"
     ]
    }
   ],
   "source": [
    "def partition_kmeans(model, data, num_buckets):\n",
    "    kmeans = cluster.KMeans(n_clusters=3).fit(model.predict(data).reshape(-1, 1))\n",
    "    l = [0] + sorted(kmeans.cluster_centers_) + [1]\n",
    "    n = len(l)\n",
    "    output = []\n",
    "    for i in range(n-1):\n",
    "        cond = (preds > l[i]) & (preds < l[i+1])\n",
    "        output.append(cond)\n",
    "    return output\n",
    "\n",
    "errs = []\n",
    "m3 = GBT_R(X_2, y_2)\n",
    "for i in range(1, 20+1):\n",
    "    print(i)\n",
    "    mc3 = MC(m3, num_buckets=4, max_iter=i, partition=partition_kmeans)\n",
    "    mc3.multicalibrate(GBT_R, X_2, y_2)\n",
    "    yhat3 = mc3.predict_probs(X_2)\n",
    "    errs.append(mean_squared_error(y_2, yhat3))"
   ]
  },
  {
   "cell_type": "code",
   "execution_count": 485,
   "id": "a8f06d12-d325-4b8b-aebd-1983c8206ac2",
   "metadata": {},
   "outputs": [
    {
     "data": {
      "text/plain": [
       "Text(0, 0.5, 'Mean Squared Error')"
      ]
     },
     "execution_count": 485,
     "metadata": {},
     "output_type": "execute_result"
    },
    {
     "data": {
      "image/png": "[encoded data removed]",
      "text/plain": [
       "<Figure size 432x288 with 1 Axes>"
      ]
     },
     "metadata": {
      "needs_background": "light"
     },
     "output_type": "display_data"
    }
   ],
   "source": [
    "plt.plot(range(1, 20+1), errs)\n",
    "plt.xlabel(\"Number of Iterations\")\n",
    "plt.ylabel(\"Mean Squared Error\")"
   ]
  },
  {
   "cell_type": "code",
   "execution_count": 475,
   "id": "819df3d6-26e9-4a31-ad1b-d47df8b3bee2",
   "metadata": {},
   "outputs": [
    {
     "data": {
      "text/plain": [
       "Text(0, 0.5, 'Mean Squared Error')"
      ]
     },
     "execution_count": 475,
     "metadata": {},
     "output_type": "execute_result"
    },
    {
     "data": {
      "image/png": "[encoded data removed]",
      "text/plain": [
       "<Figure size 432x288 with 1 Axes>"
      ]
     },
     "metadata": {
      "needs_background": "light"
     },
     "output_type": "display_data"
    }
   ],
   "source": [
    "plt.plot(range(1, 20+1), errs)\n",
    "plt.xlabel(\"Number of Iterations\")\n",
    "plt.ylabel(\"Mean Squared Error\")"
   ]
  },
  {
   "cell_type": "code",
   "execution_count": 479,
   "id": "35e4968a-8712-48e5-b44b-5c241a11ce7b",
   "metadata": {},
   "outputs": [
    {
     "name": "stdout",
     "output_type": "stream",
     "text": [
      "1\n",
      "2\n",
      "3\n",
      "4\n",
      "5\n",
      "6\n",
      "7\n",
      "8\n",
      "9\n",
      "10\n",
      "11\n",
      "12\n",
      "13\n",
      "14\n",
      "15\n",
      "16\n",
      "17\n",
      "18\n",
      "19\n",
      "20\n"
     ]
    }
   ],
   "source": [
    "errs = []\n",
    "m3 = GBT_R(X_2, y_2)\n",
    "for i in range(1, 20+1):\n",
    "    print(i)\n",
    "    mc3 = MC(m3, num_buckets=4, max_iter=i)\n",
    "    mc3.multicalibrate(GBT_R, X_2, y_2)\n",
    "    yhat3 = mc3.predict_probs(X_2)\n",
    "    errs.append(mean_squared_error(y_2, yhat3))"
   ]
  },
  {
   "cell_type": "code",
   "execution_count": 480,
   "id": "22336e78-9664-4619-a91f-bbcfbee9ff3e",
   "metadata": {},
   "outputs": [
    {
     "data": {
      "text/plain": [
       "Text(0, 0.5, 'Mean Squared Error')"
      ]
     },
     "execution_count": 480,
     "metadata": {},
     "output_type": "execute_result"
    },
    {
     "data": {
      "image/png": "[encoded data removed]",
      "text/plain": [
       "<Figure size 432x288 with 1 Axes>"
      ]
     },
     "metadata": {
      "needs_background": "light"
     },
     "output_type": "display_data"
    }
   ],
   "source": [
    "plt.plot(range(1, 20+1), errs)\n",
    "plt.xlabel(\"Number of Iterations\")\n",
    "plt.ylabel(\"Mean Squared Error\")"
   ]
  },
  {
   "cell_type": "code",
   "execution_count": null,
   "id": "882ae072-92fc-4a06-a3a5-de07f0b5e56d",
   "metadata": {},
   "outputs": [],
   "source": []
  }
 ],
 "metadata": {
  "kernelspec": {
   "display_name": "Python 3 (ipykernel)",
   "language": "python",
   "name": "python3"
  },
  "language_info": {
   "codemirror_mode": {
    "name": "ipython",
    "version": 3
   },
   "file_extension": ".py",
   "mimetype": "text/x-python",
   "name": "python",
   "nbconvert_exporter": "python",
   "pygments_lexer": "ipython3",
   "version": "3.9.0"
  }
 },
 "nbformat": 4,
 "nbformat_minor": 5
}
